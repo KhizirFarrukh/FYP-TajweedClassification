{
 "cells": [
  {
   "cell_type": "code",
   "execution_count": 1,
   "metadata": {},
   "outputs": [],
   "source": [
    "import os\n",
    "import pickle\n",
    "import numpy as np\n",
    "import matplotlib.pyplot as plt\n",
    "from sklearn.svm import OneClassSVM\n",
    "from sklearn.metrics import accuracy_score"
   ]
  },
  {
   "cell_type": "code",
   "execution_count": 2,
   "metadata": {},
   "outputs": [],
   "source": [
    "# current_directory = os.getcwd()\n",
    "# parent_directory = os.path.dirname(current_directory)\n",
    "\n",
    "training_image_directory = os.path.join(os.getcwd(),'TrainingQ_spectrograms')"
   ]
  },
  {
   "cell_type": "code",
   "execution_count": 3,
   "metadata": {},
   "outputs": [],
   "source": [
    "X = []\n",
    "for filename in os.listdir(training_image_directory):\n",
    "  if filename.endswith('.png'):\n",
    "    image_path = os.path.join(training_image_directory, filename)\n",
    "    image = plt.imread(image_path)\n",
    "    X.append(image)"
   ]
  },
  {
   "cell_type": "code",
   "execution_count": 4,
   "metadata": {},
   "outputs": [],
   "source": [
    "X = np.array(X)\n",
    "X = X.reshape(X.shape[0], -1)"
   ]
  },
  {
   "cell_type": "code",
   "execution_count": 5,
   "metadata": {},
   "outputs": [
    {
     "ename": "MemoryError",
     "evalue": "Unable to allocate 21.2 GiB for an array with shape (2320, 1228800) and data type float64",
     "output_type": "error",
     "traceback": [
      "\u001b[1;31m---------------------------------------------------------------------------\u001b[0m",
      "\u001b[1;31mMemoryError\u001b[0m                               Traceback (most recent call last)",
      "\u001b[1;32mc:\\Users\\Khizir Farrukh\\Desktop\\FYP2_1\\FYP2_SpectrogramsTrainingOCSVM.ipynb Cell 5\u001b[0m in \u001b[0;36m<cell line: 2>\u001b[1;34m()\u001b[0m\n\u001b[0;32m      <a href='vscode-notebook-cell:/c%3A/Users/Khizir%20Farrukh/Desktop/FYP2_1/FYP2_SpectrogramsTrainingOCSVM.ipynb#W4sZmlsZQ%3D%3D?line=0'>1</a>\u001b[0m model \u001b[39m=\u001b[39m OneClassSVM(kernel\u001b[39m=\u001b[39m\u001b[39m'\u001b[39m\u001b[39mpoly\u001b[39m\u001b[39m'\u001b[39m, nu\u001b[39m=\u001b[39m\u001b[39m0.1\u001b[39m)\n\u001b[1;32m----> <a href='vscode-notebook-cell:/c%3A/Users/Khizir%20Farrukh/Desktop/FYP2_1/FYP2_SpectrogramsTrainingOCSVM.ipynb#W4sZmlsZQ%3D%3D?line=1'>2</a>\u001b[0m model\u001b[39m.\u001b[39;49mfit(X)\n",
      "File \u001b[1;32mc:\\Users\\Khizir Farrukh\\AppData\\Local\\Programs\\Python\\Python310\\lib\\site-packages\\sklearn\\svm\\_classes.py:1666\u001b[0m, in \u001b[0;36mOneClassSVM.fit\u001b[1;34m(self, X, y, sample_weight, **params)\u001b[0m\n\u001b[0;32m   1658\u001b[0m \u001b[39mif\u001b[39;00m \u001b[39mlen\u001b[39m(params) \u001b[39m>\u001b[39m \u001b[39m0\u001b[39m:\n\u001b[0;32m   1659\u001b[0m     warnings\u001b[39m.\u001b[39mwarn(\n\u001b[0;32m   1660\u001b[0m         \u001b[39m\"\u001b[39m\u001b[39mPassing additional keyword parameters has no effect and is \u001b[39m\u001b[39m\"\u001b[39m\n\u001b[0;32m   1661\u001b[0m         \u001b[39m\"\u001b[39m\u001b[39mdeprecated in 1.0. An error will be raised from 1.2 and \u001b[39m\u001b[39m\"\u001b[39m\n\u001b[1;32m   (...)\u001b[0m\n\u001b[0;32m   1664\u001b[0m         \u001b[39mFutureWarning\u001b[39;00m,\n\u001b[0;32m   1665\u001b[0m     )\n\u001b[1;32m-> 1666\u001b[0m \u001b[39msuper\u001b[39;49m()\u001b[39m.\u001b[39;49mfit(X, np\u001b[39m.\u001b[39;49mones(_num_samples(X)), sample_weight\u001b[39m=\u001b[39;49msample_weight)\n\u001b[0;32m   1667\u001b[0m \u001b[39mself\u001b[39m\u001b[39m.\u001b[39moffset_ \u001b[39m=\u001b[39m \u001b[39m-\u001b[39m\u001b[39mself\u001b[39m\u001b[39m.\u001b[39m_intercept_\n\u001b[0;32m   1668\u001b[0m \u001b[39mreturn\u001b[39;00m \u001b[39mself\u001b[39m\n",
      "File \u001b[1;32mc:\\Users\\Khizir Farrukh\\AppData\\Local\\Programs\\Python\\Python310\\lib\\site-packages\\sklearn\\svm\\_base.py:221\u001b[0m, in \u001b[0;36mBaseLibSVM.fit\u001b[1;34m(self, X, y, sample_weight)\u001b[0m\n\u001b[0;32m    218\u001b[0m \u001b[39melif\u001b[39;00m \u001b[39misinstance\u001b[39m(\u001b[39mself\u001b[39m\u001b[39m.\u001b[39mgamma, \u001b[39mstr\u001b[39m):\n\u001b[0;32m    219\u001b[0m     \u001b[39mif\u001b[39;00m \u001b[39mself\u001b[39m\u001b[39m.\u001b[39mgamma \u001b[39m==\u001b[39m \u001b[39m\"\u001b[39m\u001b[39mscale\u001b[39m\u001b[39m\"\u001b[39m:\n\u001b[0;32m    220\u001b[0m         \u001b[39m# var = E[X^2] - E[X]^2 if sparse\u001b[39;00m\n\u001b[1;32m--> 221\u001b[0m         X_var \u001b[39m=\u001b[39m (X\u001b[39m.\u001b[39mmultiply(X))\u001b[39m.\u001b[39mmean() \u001b[39m-\u001b[39m (X\u001b[39m.\u001b[39mmean()) \u001b[39m*\u001b[39m\u001b[39m*\u001b[39m \u001b[39m2\u001b[39m \u001b[39mif\u001b[39;00m sparse \u001b[39melse\u001b[39;00m X\u001b[39m.\u001b[39;49mvar()\n\u001b[0;32m    222\u001b[0m         \u001b[39mself\u001b[39m\u001b[39m.\u001b[39m_gamma \u001b[39m=\u001b[39m \u001b[39m1.0\u001b[39m \u001b[39m/\u001b[39m (X\u001b[39m.\u001b[39mshape[\u001b[39m1\u001b[39m] \u001b[39m*\u001b[39m X_var) \u001b[39mif\u001b[39;00m X_var \u001b[39m!=\u001b[39m \u001b[39m0\u001b[39m \u001b[39melse\u001b[39;00m \u001b[39m1.0\u001b[39m\n\u001b[0;32m    223\u001b[0m     \u001b[39melif\u001b[39;00m \u001b[39mself\u001b[39m\u001b[39m.\u001b[39mgamma \u001b[39m==\u001b[39m \u001b[39m\"\u001b[39m\u001b[39mauto\u001b[39m\u001b[39m\"\u001b[39m:\n",
      "File \u001b[1;32mc:\\Users\\Khizir Farrukh\\AppData\\Local\\Programs\\Python\\Python310\\lib\\site-packages\\numpy\\core\\_methods.py:232\u001b[0m, in \u001b[0;36m_var\u001b[1;34m(a, axis, dtype, out, ddof, keepdims, where)\u001b[0m\n\u001b[0;32m    227\u001b[0m     arrmean \u001b[39m=\u001b[39m arrmean \u001b[39m/\u001b[39m rcount\n\u001b[0;32m    229\u001b[0m \u001b[39m# Compute sum of squared deviations from mean\u001b[39;00m\n\u001b[0;32m    230\u001b[0m \u001b[39m# Note that x may not be inexact and that we need it to be an array,\u001b[39;00m\n\u001b[0;32m    231\u001b[0m \u001b[39m# not a scalar.\u001b[39;00m\n\u001b[1;32m--> 232\u001b[0m x \u001b[39m=\u001b[39m asanyarray(arr \u001b[39m-\u001b[39;49m arrmean)\n\u001b[0;32m    234\u001b[0m \u001b[39mif\u001b[39;00m \u001b[39missubclass\u001b[39m(arr\u001b[39m.\u001b[39mdtype\u001b[39m.\u001b[39mtype, (nt\u001b[39m.\u001b[39mfloating, nt\u001b[39m.\u001b[39minteger)):\n\u001b[0;32m    235\u001b[0m     x \u001b[39m=\u001b[39m um\u001b[39m.\u001b[39mmultiply(x, x, out\u001b[39m=\u001b[39mx)\n",
      "\u001b[1;31mMemoryError\u001b[0m: Unable to allocate 21.2 GiB for an array with shape (2320, 1228800) and data type float64"
     ]
    }
   ],
   "source": [
    "model = OneClassSVM(kernel='poly', nu=0.1)\n",
    "model.fit(X)"
   ]
  },
  {
   "cell_type": "code",
   "execution_count": 6,
   "metadata": {},
   "outputs": [],
   "source": [
    "y_pred_train = model.predict(X)"
   ]
  },
  {
   "cell_type": "code",
   "execution_count": 7,
   "metadata": {},
   "outputs": [
    {
     "name": "stdout",
     "output_type": "stream",
     "text": [
      "Accuracy: 0.9012345679012346\n"
     ]
    }
   ],
   "source": [
    "accuracy = accuracy_score(np.ones_like(y_pred_train), y_pred_train)\n",
    "print(\"Accuracy:\", accuracy)"
   ]
  },
  {
   "cell_type": "code",
   "execution_count": null,
   "metadata": {},
   "outputs": [],
   "source": [
    "model_filename = os.path.join(os.getcwd(),'one_class_svm_model.sav')\n",
    "pickle.dump(model, open(model_filename,'wb'))"
   ]
  }
 ],
 "metadata": {
  "kernelspec": {
   "display_name": "Python 3",
   "language": "python",
   "name": "python3"
  },
  "language_info": {
   "codemirror_mode": {
    "name": "ipython",
    "version": 3
   },
   "file_extension": ".py",
   "mimetype": "text/x-python",
   "name": "python",
   "nbconvert_exporter": "python",
   "pygments_lexer": "ipython3",
   "version": "3.10.2"
  },
  "orig_nbformat": 4
 },
 "nbformat": 4,
 "nbformat_minor": 2
}
